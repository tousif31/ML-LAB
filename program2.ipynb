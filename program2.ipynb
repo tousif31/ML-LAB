{
 "cells": [
  {
   "cell_type": "code",
   "execution_count": 5,
   "id": "9fdba6fc",
   "metadata": {},
   "outputs": [
    {
     "name": "stdout",
     "output_type": "stream",
     "text": [
      "Initialization of specific_h and general_h\n",
      "['sunny' 'warm' 'normal' 'strong' 'warm' 'same']\n",
      "[['?', '?', '?', '?', '?', '?'], ['?', '?', '?', '?', '?', '?'], ['?', '?', '?', '?', '?', '?'], ['?', '?', '?', '?', '?', '?'], ['?', '?', '?', '?', '?', '?'], ['?', '?', '?', '?', '?', '?']]\n",
      "['sunny' 'warm' '?' 'strong' '?' '?'] \n",
      "\n",
      "[['sunny', '?', '?', '?', '?', '?'], ['?', 'warm', '?', '?', '?', '?'], ['?', '?', '?', '?', '?', '?'], ['?', '?', '?', '?', '?', '?'], ['?', '?', '?', '?', '?', '?'], ['?', '?', '?', '?', '?', '?']] \n",
      "\n",
      "\n",
      "Final Specific_h:\n",
      "['sunny' 'warm' '?' 'strong' '?' '?']\n",
      "Final General_h:\n",
      "[['sunny', '?', '?', '?', '?', '?'], ['?', 'warm', '?', '?', '?', '?']]\n"
     ]
    }
   ],
   "source": [
    "import numpy as np\n",
    "import pandas as pd\n",
    "data = pd.read_csv('abs.csv')\n",
    "features = np.array(data)[:,:-1]\n",
    "target = np.array(data)[:,-1]\n",
    "specific_h = features[0].copy()\n",
    "print(\"Initialization of specific_h and general_h\")\n",
    "print(specific_h)\n",
    "general_h = [[\"?\" for i in range (len(specific_h))]for i in range(len(specific_h))]\n",
    "print(general_h)\n",
    "for i, h in enumerate(features):\n",
    "    if target[i] == \"yes\":\n",
    "        for x in range(len(specific_h)):\n",
    "            if h[x] != specific_h[x]:\n",
    "                specific_h[x]='?'\n",
    "                general_h[x][x]='?'\n",
    "                \n",
    "    if target[i] == \"no\":\n",
    "        for x in range(len(specific_h)):\n",
    "            if h[x] != specific_h[x]:\n",
    "                general_h[x][x]=specific_h[x]\n",
    "            else:\n",
    "                general_h[x][x]='?'\n",
    "print(specific_h,\"\\n\")\n",
    "print(general_h,\"\\n\")\n",
    "\n",
    "indices = [i for i, val in enumerate(general_h)if val == ['?','?','?','?','?','?']]\n",
    "for i in indices:\n",
    "    general_h.remove(['?','?','?','?','?','?'])\n",
    "print(\"\\nFinal Specific_h:\",specific_h,sep=\"\\n\")\n",
    "print(\"Final General_h:\",general_h,sep=\"\\n\")"
   ]
  },
  {
   "cell_type": "code",
   "execution_count": null,
   "id": "5f4be848",
   "metadata": {},
   "outputs": [],
   "source": []
  }
 ],
 "metadata": {
  "kernelspec": {
   "display_name": "Python 3 (ipykernel)",
   "language": "python",
   "name": "python3"
  },
  "language_info": {
   "codemirror_mode": {
    "name": "ipython",
    "version": 3
   },
   "file_extension": ".py",
   "mimetype": "text/x-python",
   "name": "python",
   "nbconvert_exporter": "python",
   "pygments_lexer": "ipython3",
   "version": "3.10.9"
  }
 },
 "nbformat": 4,
 "nbformat_minor": 5
}

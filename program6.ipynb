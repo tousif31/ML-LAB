{
 "cells": [
  {
   "cell_type": "code",
   "execution_count": 3,
   "id": "926f5d0a",
   "metadata": {},
   "outputs": [
    {
     "name": "stdout",
     "output_type": "stream",
     "text": [
      "                   Age  Gender FamilyHist    Diet LifeStyle Cholesterol  \\\n",
      "0   SuperSeniorCitizen    Male        Yes  Medium  Sedetary        High   \n",
      "1   SuperSeniorCitizen  Female        Yes  Medium  Sedetary        High   \n",
      "2        SeniorCitizen    Male         No    High  Moderate  BorderLine   \n",
      "3                 Teen    Male        Yes  Medium  Sedetary      Normal   \n",
      "4                Youth  Female        Yes    High   Athlete      Normal   \n",
      "5           MiddleAged    Male        Yes  Medium    Active        High   \n",
      "6                 Teen    Male        Yes    High  Moderate        High   \n",
      "7   SuperSeniorCitizen    Male        Yes  Medium  Sedetary        High   \n",
      "8                Youth  Female        Yes    High   Athlete      Normal   \n",
      "9        SeniorCitizen  Female         No    High   Athlete      Normal   \n",
      "10                Teen  Female         No  Medium  Moderate        High   \n",
      "11                Teen    Male        Yes  Medium  Sedetary      Normal   \n",
      "12          MiddleAged  Female         No    High   Athlete        High   \n",
      "13          MiddleAged    Male        Yes  Medium    Active        High   \n",
      "14               Youth  Female        Yes    High   Athlete  BorderLine   \n",
      "15  SuperSeniorCitizen    Male        Yes    High   Athlete      Normal   \n",
      "16       SeniorCitizen  Female         No  Medium  Moderate  BorderLine   \n",
      "17               youth  female        yes  medium  athetete  Borderline   \n",
      "18               Youth  Female        Yes  Medium   Athlete  BorderLine   \n",
      "19                Teen    Male        Yes  Medium  Sedetary      Normal   \n",
      "\n",
      "   HeartDisease  \n",
      "0           yes  \n",
      "1           yes  \n",
      "2           yes  \n",
      "3            no  \n",
      "4            no  \n",
      "5           yes  \n",
      "6           yes  \n",
      "7           yes  \n",
      "8            no  \n",
      "9           yes  \n",
      "10          yes  \n",
      "11           no  \n",
      "12           no  \n",
      "13          yes  \n",
      "14           no  \n",
      "15          yes  \n",
      "16          yes  \n",
      "17           no  \n",
      "18          NaN  \n",
      "19           no  \n",
      "Confusion matrix [[1 1]\n",
      " [1 1]]\n"
     ]
    },
    {
     "name": "stderr",
     "output_type": "stream",
     "text": [
      "C:\\Users\\MicroApt\\AppData\\Local\\Temp\\ipykernel_5432\\125166676.py:8: DeprecationWarning: In a future version, `df.iloc[:, i] = newvals` will attempt to set the values inplace instead of always setting a new array. To retain the old behavior, use either `df[df.columns[i]] = newvals` or, if columns are non-unique, `df.isetitem(i, newvals)`\n",
      "  data.iloc[:,i] = encoder.fit_transform(data.iloc[:,i])\n",
      "C:\\Users\\MicroApt\\AppData\\Local\\Temp\\ipykernel_5432\\125166676.py:8: DeprecationWarning: In a future version, `df.iloc[:, i] = newvals` will attempt to set the values inplace instead of always setting a new array. To retain the old behavior, use either `df[df.columns[i]] = newvals` or, if columns are non-unique, `df.isetitem(i, newvals)`\n",
      "  data.iloc[:,i] = encoder.fit_transform(data.iloc[:,i])\n",
      "C:\\Users\\MicroApt\\AppData\\Local\\Temp\\ipykernel_5432\\125166676.py:8: DeprecationWarning: In a future version, `df.iloc[:, i] = newvals` will attempt to set the values inplace instead of always setting a new array. To retain the old behavior, use either `df[df.columns[i]] = newvals` or, if columns are non-unique, `df.isetitem(i, newvals)`\n",
      "  data.iloc[:,i] = encoder.fit_transform(data.iloc[:,i])\n",
      "C:\\Users\\MicroApt\\AppData\\Local\\Temp\\ipykernel_5432\\125166676.py:8: DeprecationWarning: In a future version, `df.iloc[:, i] = newvals` will attempt to set the values inplace instead of always setting a new array. To retain the old behavior, use either `df[df.columns[i]] = newvals` or, if columns are non-unique, `df.isetitem(i, newvals)`\n",
      "  data.iloc[:,i] = encoder.fit_transform(data.iloc[:,i])\n",
      "C:\\Users\\MicroApt\\AppData\\Local\\Temp\\ipykernel_5432\\125166676.py:8: DeprecationWarning: In a future version, `df.iloc[:, i] = newvals` will attempt to set the values inplace instead of always setting a new array. To retain the old behavior, use either `df[df.columns[i]] = newvals` or, if columns are non-unique, `df.isetitem(i, newvals)`\n",
      "  data.iloc[:,i] = encoder.fit_transform(data.iloc[:,i])\n",
      "C:\\Users\\MicroApt\\AppData\\Local\\Temp\\ipykernel_5432\\125166676.py:8: DeprecationWarning: In a future version, `df.iloc[:, i] = newvals` will attempt to set the values inplace instead of always setting a new array. To retain the old behavior, use either `df[df.columns[i]] = newvals` or, if columns are non-unique, `df.isetitem(i, newvals)`\n",
      "  data.iloc[:,i] = encoder.fit_transform(data.iloc[:,i])\n",
      "C:\\Users\\MicroApt\\AppData\\Local\\Temp\\ipykernel_5432\\125166676.py:8: DeprecationWarning: In a future version, `df.iloc[:, i] = newvals` will attempt to set the values inplace instead of always setting a new array. To retain the old behavior, use either `df[df.columns[i]] = newvals` or, if columns are non-unique, `df.isetitem(i, newvals)`\n",
      "  data.iloc[:,i] = encoder.fit_transform(data.iloc[:,i])\n"
     ]
    }
   ],
   "source": [
    "import pandas as pd\n",
    "col=['Age','Gender','FamilyHist','Diet','LifeStyle','Cholesterol','HeartDisease']\n",
    "data=pd.read_csv('heart.csv',names=col)\n",
    "print(data)\n",
    "from sklearn.preprocessing import LabelEncoder\n",
    "encoder = LabelEncoder()\n",
    "for i in range(len(col)):\n",
    "    data.iloc[:,i] = encoder.fit_transform(data.iloc[:,i])\n",
    "    \n",
    "x=data.iloc[:,0:6]\n",
    "y=data.iloc[:,-1]\n",
    "from sklearn.model_selection import train_test_split\n",
    "x_train,x_test,y_train,y_test =train_test_split(x,y,test_size=0.2)\n",
    "\n",
    "from sklearn.naive_bayes import GaussianNB\n",
    "clf=GaussianNB()\n",
    "clf.fit(x_train,y_train)\n",
    "y_pred = clf.predict(x_test)\n",
    "\n",
    "from sklearn.metrics import confusion_matrix\n",
    "print('Confusion matrix',confusion_matrix(y_test,y_pred))"
   ]
  },
  {
   "cell_type": "code",
   "execution_count": null,
   "id": "deeddfbc",
   "metadata": {},
   "outputs": [],
   "source": []
  }
 ],
 "metadata": {
  "kernelspec": {
   "display_name": "Python 3 (ipykernel)",
   "language": "python",
   "name": "python3"
  },
  "language_info": {
   "codemirror_mode": {
    "name": "ipython",
    "version": 3
   },
   "file_extension": ".py",
   "mimetype": "text/x-python",
   "name": "python",
   "nbconvert_exporter": "python",
   "pygments_lexer": "ipython3",
   "version": "3.10.9"
  }
 },
 "nbformat": 4,
 "nbformat_minor": 5
}

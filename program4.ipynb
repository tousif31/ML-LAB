{
 "cells": [
  {
   "cell_type": "code",
   "execution_count": 9,
   "id": "4314e6b4",
   "metadata": {},
   "outputs": [
    {
     "name": "stdout",
     "output_type": "stream",
     "text": [
      "Input:\n",
      "[[0.66666667 1.        ]\n",
      " [0.33333333 0.55555556]\n",
      " [1.         0.66666667]]\n",
      "Actual Output:\n",
      "[[0.92]\n",
      " [0.86]\n",
      " [0.89]]\n",
      "predicted Output:\n",
      " [[0.89367163]\n",
      " [0.87843138]\n",
      " [0.89498079]]\n"
     ]
    }
   ],
   "source": [
    "import numpy as np\n",
    "X=np.array(([2,9],[1,5],[3,6]),dtype=float)\n",
    "y=np.array(([92],[86],[89]),dtype=float)\n",
    "X=X/np.amax(X,axis=0)\n",
    "y=y/100\n",
    "\n",
    "\n",
    "\n",
    "def sigmoid(x):\n",
    "    return 1/(1+np.exp(-x))\n",
    "\n",
    "def der_sigmoid(x):\n",
    "    return x*(1-x)\n",
    "\n",
    "epoch=700\n",
    "lr=0.1\n",
    "\n",
    "inputlayer_neourons=2\n",
    "hiddenlayer_neourons=3\n",
    "outputlayer_neourons=1\n",
    "\n",
    "\n",
    "wh=np.random.uniform(size=(inputlayer_neourons,hiddenlayer_neourons))\n",
    "bh=np.random.uniform(size=(1,hiddenlayer_neourons))\n",
    "wout=np.random.uniform(size=(hiddenlayer_neourons,outputlayer_neourons))\n",
    "bout=np.random.uniform(size=(1,outputlayer_neourons))\n",
    "\n",
    "\n",
    "for i in range(epoch):\n",
    "    hinp1=np.dot(X,wh)\n",
    "    hinp=hinp1+bh\n",
    "    hlayer_act=sigmoid(hinp)\n",
    "    outinp1=np.dot(hlayer_act,wout)\n",
    "    outinp=outinp1+bout\n",
    "    output=sigmoid(outinp)\n",
    "    \n",
    "    E0=y-output\n",
    "    outgrad=der_sigmoid(output)\n",
    "    d_output=E0*outgrad\n",
    "    EH=d_output.dot(wout.T)\n",
    "    hiddengrad=der_sigmoid(hlayer_act)\n",
    "    d_hiddenlayer=EH*hiddengrad\n",
    "    wout+=hlayer_act.T.dot(d_output)*lr\n",
    "    \n",
    "print(\"Input:\\n\"+str(X))\n",
    "print(\"Actual Output:\\n\"+str(y))\n",
    "print(\"predicted Output:\\n\",output)"
   ]
  },
  {
   "cell_type": "code",
   "execution_count": null,
   "id": "b4b8542b",
   "metadata": {},
   "outputs": [],
   "source": []
  }
 ],
 "metadata": {
  "kernelspec": {
   "display_name": "Python 3 (ipykernel)",
   "language": "python",
   "name": "python3"
  },
  "language_info": {
   "codemirror_mode": {
    "name": "ipython",
    "version": 3
   },
   "file_extension": ".py",
   "mimetype": "text/x-python",
   "name": "python",
   "nbconvert_exporter": "python",
   "pygments_lexer": "ipython3",
   "version": "3.10.9"
  }
 },
 "nbformat": 4,
 "nbformat_minor": 5
}

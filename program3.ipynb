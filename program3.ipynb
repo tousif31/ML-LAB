{
 "cells": [
  {
   "cell_type": "code",
   "execution_count": null,
   "id": "2525fdf5",
   "metadata": {},
   "outputs": [],
   "source": []
  },
  {
   "cell_type": "code",
   "execution_count": 6,
   "id": "03323cdd",
   "metadata": {},
   "outputs": [
    {
     "name": "stdout",
     "output_type": "stream",
     "text": [
      "\n",
      " given play tennis dataset:\n",
      "\n",
      "      Outlook Temperature Humidity    Wind PlayTennis\n",
      "0      Sunny         Hot     High    Weak         no\n",
      "1      Sunny         Hot     High  Strong         no\n",
      "2   Overcast         Hot     High    Weak        yes\n",
      "3       Rain        Mild     High    Weak        yes\n",
      "4       Rain        Cool   Normal    Weak        yes\n",
      "5       Rain        Cool   Normal  Strong         no\n",
      "6   Overcast        Cool   Normal  Strong        yes\n",
      "7      Sunny        Mild     High    Weak         no\n",
      "8      Sunny        Cool    Nomal    Weak        yes\n",
      "9   Overcast        Mild     High  Strong        yes\n",
      "10  Overcast         Hot   Normal    Weak        yes\n",
      "11      Rain        Mild     High  Strong         no\n",
      "\n",
      " list of attributes: ['Outlook', 'Temperature', 'Humidity', 'Wind', 'PlayTennis']\n",
      "\n",
      " predicting attributes: ['Outlook', 'Temperature', 'Humidity', 'Wind']\n",
      "\n",
      " gain= [0.3761093818314417, 0.042776048498108454, 0.13472630247812822, 0.07181901063117258]\n",
      "\n",
      " best attribute= Outlook\n",
      "\n",
      " gain= [0.0, 0.0, 1.0]\n",
      "\n",
      " best attribute= Wind\n",
      "\n",
      " gain= [0.8112781244591328, 0.8112781244591328, 0.12255624891826566]\n",
      "\n",
      " best attribute= Temperature\n",
      "\n",
      "\n",
      " the resultant decision tree is:\n",
      "\n",
      "{'Outlook': {'Overcast': 'yes', 'Rain': {'Wind': {'Strong': 'no', 'Weak': 'yes'}}, 'Sunny': {'Temperature': {'Cool': 'yes', 'Hot': 'no', 'Mild': 'no'}}}}\n"
     ]
    }
   ],
   "source": [
    "import pandas as pd\n",
    "from collections import Counter\n",
    "import math\n",
    "tennis = pd.read_csv('playtennis.csv')\n",
    "print(\"\\n given play tennis dataset:\\n\\n\",tennis)\n",
    "\n",
    "def entropy(alist):\n",
    "    c=Counter(x for x in alist)\n",
    "    instances = len(alist)\n",
    "    prob = [x/instances for x in c.values()]\n",
    "    return sum([-p*math.log(p,2)for p in prob])\n",
    "\n",
    "def information_gain(d,split,target):\n",
    "    splitting = d.groupby(split)\n",
    "    n=len(d.index)\n",
    "    agent = splitting.agg({target:[entropy,lambda x:len(x)/n]})[target]\n",
    "    agent.columns = ['entropy','observations']\n",
    "    newentropy = sum(agent['entropy']*agent['observations'])\n",
    "    oldentropy = entropy(d[target])\n",
    "    return oldentropy - newentropy\n",
    "\n",
    "def id3(sub,target,a):\n",
    "    count = Counter(x for x in sub[target])\n",
    "    if len(count)==1:\n",
    "        return next(iter(count))\n",
    "    else:\n",
    "        gain = [information_gain(sub,attr,target)for attr in a]\n",
    "        print('\\n gain=',gain)\n",
    "        maximum = gain.index(max(gain))\n",
    "        best = a[maximum]\n",
    "        print(\"\\n best attribute=\",best)\n",
    "        tree={best:{}}\n",
    "        remaining=[i for i in a if i !=best]\n",
    "        for val,subset in sub.groupby(best):\n",
    "            subtree = id3(subset,target,remaining)\n",
    "            tree[best][val] = subtree\n",
    "        return tree\n",
    "names = list(tennis.columns)    \n",
    "print(\"\\n list of attributes:\",names)\n",
    "names.remove(\"PlayTennis\")\n",
    "print(\"\\n predicting attributes:\",names)\n",
    "tree = id3(tennis,'PlayTennis',names)\n",
    "print(\"\\n\\n the resultant decision tree is:\\n\")\n",
    "print(tree)"
   ]
  },
  {
   "cell_type": "code",
   "execution_count": null,
   "id": "b1fcf5b2",
   "metadata": {},
   "outputs": [],
   "source": []
  }
 ],
 "metadata": {
  "kernelspec": {
   "display_name": "Python 3 (ipykernel)",
   "language": "python",
   "name": "python3"
  },
  "language_info": {
   "codemirror_mode": {
    "name": "ipython",
    "version": 3
   },
   "file_extension": ".py",
   "mimetype": "text/x-python",
   "name": "python",
   "nbconvert_exporter": "python",
   "pygments_lexer": "ipython3",
   "version": "3.10.9"
  }
 },
 "nbformat": 4,
 "nbformat_minor": 5
}
